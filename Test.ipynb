{
 "cells": [
  {
   "cell_type": "code",
   "execution_count": 9,
   "metadata": {},
   "outputs": [
    {
     "data": {
      "text/plain": [
       "-1.410185567434855"
      ]
     },
     "execution_count": 9,
     "metadata": {},
     "output_type": "execute_result"
    }
   ],
   "source": [
    "import numpy as np \n",
    "from utils import GAS,GAS_no_overflow, entropy\n",
    "\n",
    "pi = np.array([[0.25, 0.25, 0.25,0.25]]).T #  distribucion de x M=4  (M,1)\n",
    "qk = np.array([0.25, 0.25, 0.25,0.25]).T # K= 4  distribucion de y   (K,1)\n",
    "ski = 1/2*np.array([[1, 1, 0, 0],\n",
    "                [1, 1, 0, 0],\n",
    "                [0, 0, 1, 1],\n",
    "                [0, 0, 1, 1]])\n",
    "max_iter=100  # cantidad de iteraciones\n",
    "I=0.6 # treshold de informacion\n",
    "N = 9  # alfabeto de T\n",
    "\n",
    "gas_result=GAS_no_overflow(pi,qk,ski,I,N,max_iter)  # idea, revisar convergencia de i(t;y)\n",
    "gas_result"
   ]
  },
  {
   "cell_type": "code",
   "execution_count": 11,
   "metadata": {},
   "outputs": [
    {
     "data": {
      "text/plain": [
       "-0.02389120631496433"
      ]
     },
     "execution_count": 11,
     "metadata": {},
     "output_type": "execute_result"
    }
   ],
   "source": [
    "information_xt=entropy(pi)+gas_result\n",
    "information_xt"
   ]
  }
 ],
 "metadata": {
  "kernelspec": {
   "display_name": "base",
   "language": "python",
   "name": "python3"
  },
  "language_info": {
   "codemirror_mode": {
    "name": "ipython",
    "version": 3
   },
   "file_extension": ".py",
   "mimetype": "text/x-python",
   "name": "python",
   "nbconvert_exporter": "python",
   "pygments_lexer": "ipython3",
   "version": "3.11.5"
  }
 },
 "nbformat": 4,
 "nbformat_minor": 2
}
